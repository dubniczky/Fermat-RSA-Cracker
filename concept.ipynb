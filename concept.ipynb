{
 "cells": [
  {
   "cell_type": "code",
   "execution_count": 47,
   "metadata": {},
   "outputs": [],
   "source": [
    "from Crypto.Util.number import getPrime\n",
    "from Crypto.Util.number import isPrime\n",
    "from Crypto.Util.number import getRandomNBitInteger\n",
    "from Crypto import Random"
   ]
  },
  {
   "cell_type": "code",
   "execution_count": 42,
   "metadata": {},
   "outputs": [],
   "source": [
    "def getSimilarPrime(N, p, diff):\n",
    "    d = getRandomNBitInteger(diff)\n",
    "    number = (p + d + 1) | 1\n",
    "    \n",
    "    while (not isPrime(number, randfunc=Random.get_random_bytes)):\n",
    "        number = number + 2\n",
    "        if number >= 1 << N:\n",
    "            number = (1 << N - 1) | 1\n",
    "    return number"
   ]
  },
  {
   "cell_type": "code",
   "execution_count": 45,
   "metadata": {},
   "outputs": [
    {
     "data": {
      "text/plain": [
       "8735199717264520382402894107268917456649981439562963618250192861045754042428923540507374134603120268786399673194118012694343290009374397945325853622991317"
      ]
     },
     "execution_count": 45,
     "metadata": {},
     "output_type": "execute_result"
    }
   ],
   "source": [
    "N = 512\n",
    "p = getPrime(N)\n",
    "p"
   ]
  },
  {
   "cell_type": "code",
   "execution_count": 48,
   "metadata": {},
   "outputs": [
    {
     "data": {
      "text/plain": [
       "8735199717264520382402894107268917456649981439562963618250192861045754042428923540507374134603120268786399673194118012694343290009374408470379056190199759"
      ]
     },
     "execution_count": 48,
     "metadata": {},
     "output_type": "execute_result"
    }
   ],
   "source": [
    "getSimilarPrime(N, p, 64)"
   ]
  },
  {
   "cell_type": "code",
   "execution_count": 55,
   "metadata": {},
   "outputs": [],
   "source": [
    "from Crypto.PublicKey import RSA\n",
    "from base64 import b64decode"
   ]
  },
  {
   "cell_type": "code",
   "execution_count": 57,
   "metadata": {},
   "outputs": [
    {
     "data": {
      "text/plain": [
       "RsaKey(n=69898344232861474474474348064640152482133128710674298079970657975965947616721075686585528224466812885141137262918518892026651931285498687478451788443979303338726870083260334886416258399066709452646254746754014077259955162458275354126544381503433111444558703884486596490741605617830870530620991670991445052319, e=65537)"
      ]
     },
     "execution_count": 57,
     "metadata": {},
     "output_type": "execute_result"
    }
   ],
   "source": [
    "key = '''MIGeMA0GCSqGSIb3DQEBAQUAA4GMADCBiAKBgGOJ3iqnPZxYkKcUPrBfFObY5tDk1K8JEgSC/kqZtHESN8b95wxSbV9loEknBZWjpISHTCY/cFrPetGKfQ3uEm0oVC4QsuKYr0ED9jlR/WsZdpdBBFd8e++C8X8VOR4xaXjBGJqUTmtbgKCNUa/MWFYj+AW1hRw1Ve4CrdMelEufAgMBAAE='''\n",
    "key = b64decode(key)\n",
    "\n",
    "pub = RSA.importKey(key)\n",
    "pub"
   ]
  },
  {
   "cell_type": "markdown",
   "metadata": {},
   "source": [
    "---"
   ]
  },
  {
   "cell_type": "code",
   "execution_count": null,
   "metadata": {},
   "outputs": [],
   "source": [
    "p = 2966674018998231982888308610933393740188453145710788344971875300893618197745929309669009511556094490031081944299691801045241234410274140239150515477209243679042518529383998580610890863305844773194674213898930773685161497597757102524994646621965492000421327747019749223500553527480409924521415089998727367252239797560679708637088881126773775038718376565608809851087003124723724492598516875776613995337241081215277484957343998284416249620020165466406009292896913847952889425139578284383244064539206915500538131444714706041348602543168212585645289477440707699939920085025259463464217681708809266974644669085353278308257"
   ]
  },
  {
   "cell_type": "code",
   "execution_count": null,
   "metadata": {},
   "outputs": [],
   "source": [
    "q = 29666740189982319828883086109333937401884531457107883449718753008936181977459293096690095115560944900310819442996918010452412344102741402391505154772092436790425185293839985806108908633058447731946742138989307736851614975977571025249946466219654920004213277470197492235005535274804099245214150899987273672522397975606797086370888811267737750387183765656088098510870031247237244925985168757766139953372410812152774849573439982844162496200201654664060092928969138479528894251395782843832440645392069155005381314447147060413486025431682125856452894774407076999399200850252594634642176817088079653665709804716515130006927"
   ]
  },
  {
   "cell_type": "code",
   "execution_count": null,
   "metadata": {},
   "outputs": [],
   "source": [
    "n = p*q #209 # 11*19\n",
    "e = 65537\n",
    "d = pow(e, -1, (p-1) * (q-1))\n",
    "\n",
    "n, e, d"
   ]
  },
  {
   "cell_type": "code",
   "execution_count": null,
   "metadata": {},
   "outputs": [],
   "source": [
    "from math import isqrt\n",
    "\n",
    "def crack_rsa(n, e, limit):\n",
    "    a = int(isqrt(n) + 1)\n",
    "    b = -1\n",
    "    steps = 0\n",
    "\n",
    "    for i in range(limit):\n",
    "        b2 = int(a**2 - n)\n",
    "        if (b2 == isqrt(b2) ** 2):\n",
    "            b = int(isqrt(b2))\n",
    "            steps = i\n",
    "            break\n",
    "        a += 1\n",
    "\n",
    "    if (b == -1):\n",
    "        return None\n",
    "    \n",
    "    p = a + b\n",
    "    q = a - b\n",
    "    phi = (p-1) * (q-1)\n",
    "    #print(p, q, phi, a, b)\n",
    "    d = pow(e, -1, phi)\n",
    "    return (d, p, q, phi, steps)"
   ]
  },
  {
   "cell_type": "code",
   "execution_count": null,
   "metadata": {},
   "outputs": [],
   "source": [
    "crack_rsa(n, e, 1000)"
   ]
  },
  {
   "cell_type": "code",
   "execution_count": 2,
   "metadata": {},
   "outputs": [
    {
     "data": {
      "text/plain": [
       "25509859124389208037824180986334146099162214956707553828826616890152742034052080539280986069331862015195371072671629277404734333101056345447351735678278140414899612076649813217541584562728007824606414204632988600143928861259225678054756448117948796836965124747948823071023860293478300761348346953840140097344989937566115763703343962821767012469855296054807376626374398240361302489509354900702394316422994988326198484930747154052935557189132483738800153381817498156454854152090903588914549504462928331716326779376245607413123236611715915381173940864224058173528402195683313943119707931669548591412688833012970817381411"
      ]
     },
     "execution_count": 2,
     "metadata": {},
     "output_type": "execute_result"
    }
   ],
   "source": [
    "from Crypto.Util import number\n",
    "number.getPrime(2048)"
   ]
  },
  {
   "cell_type": "code",
   "execution_count": null,
   "metadata": {},
   "outputs": [],
   "source": [
    "def crack_difference(bits, difbits):\n",
    "    # get bitstrings\n",
    "    p = \"{0:b}\".format(number.getPrime(bits))\n",
    "    q = \"{0:b}\".format(number.getPrime(bits))\n",
    "\n",
    "    q = int(p[:-difbits] + q[-difbits:], 2)\n",
    "    p = int(p, 2)\n",
    "\n",
    "    n = p*q #209 # 11*19\n",
    "    e = 65537\n",
    "    d = pow(e, -1, (p-1) * (q-1))\n",
    "\n",
    "    res = crack_rsa(n, e, 1000000)\n",
    "    if (res == None):\n",
    "        return 'unsuccessful', res\n",
    "    elif (res[0] == d):\n",
    "        return 'correct', res\n",
    "    else:\n",
    "        return 'incorrect', res\n",
    "\n",
    "crack_difference(4096, 2048)"
   ]
  },
  {
   "cell_type": "code",
   "execution_count": null,
   "metadata": {},
   "outputs": [],
   "source": [
    "import time\n",
    "import numpy as np\n",
    "n = 2048\n",
    "# populate the matrices with random values between 0.0 and 1.0\n",
    "A=np.random.rand(n,n)\n",
    "B=np.random.rand(n,n)\n",
    "start = time.time()\n",
    "#matrix multiplication\n",
    "C=A@B\n",
    "end = time.time()\n",
    "print(\"Elapsed time in seconds %0.6f\" % (end-start))"
   ]
  }
 ],
 "metadata": {
  "interpreter": {
   "hash": "f871ce86094cfd9bc401599a69fdf6db5edc218bdd8bae3360dfb1390034ef30"
  },
  "kernelspec": {
   "display_name": "Python 3.10.4 64-bit",
   "language": "python",
   "name": "python3"
  },
  "language_info": {
   "codemirror_mode": {
    "name": "ipython",
    "version": 3
   },
   "file_extension": ".py",
   "mimetype": "text/x-python",
   "name": "python",
   "nbconvert_exporter": "python",
   "pygments_lexer": "ipython3",
   "version": "3.10.4"
  },
  "orig_nbformat": 4
 },
 "nbformat": 4,
 "nbformat_minor": 2
}
