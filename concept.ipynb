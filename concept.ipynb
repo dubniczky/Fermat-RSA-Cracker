{
 "cells": [
  {
   "cell_type": "code",
   "execution_count": 47,
   "metadata": {},
   "outputs": [],
   "source": [
    "from Crypto.Util.number import getPrime\n",
    "from Crypto.Util.number import isPrime\n",
    "from Crypto.Util.number import getRandomNBitInteger\n",
    "from Crypto import Random"
   ]
  },
  {
   "cell_type": "code",
   "execution_count": 42,
   "metadata": {},
   "outputs": [],
   "source": [
    "def getSimilarPrime(N, p, diff):\n",
    "    d = getRandomNBitInteger(diff)\n",
    "    number = (p + d + 1) | 1\n",
    "    \n",
    "    while (not isPrime(number, randfunc=Random.get_random_bytes)):\n",
    "        number = number + 2\n",
    "        if number >= 1 << N:\n",
    "            number = (1 << N - 1) | 1\n",
    "    return number"
   ]
  },
  {
   "cell_type": "code",
   "execution_count": 45,
   "metadata": {},
   "outputs": [
    {
     "data": {
      "text/plain": [
       "8735199717264520382402894107268917456649981439562963618250192861045754042428923540507374134603120268786399673194118012694343290009374397945325853622991317"
      ]
     },
     "execution_count": 45,
     "metadata": {},
     "output_type": "execute_result"
    }
   ],
   "source": [
    "N = 512\n",
    "p = getPrime(N)\n",
    "p"
   ]
  },
  {
   "cell_type": "code",
   "execution_count": 48,
   "metadata": {},
   "outputs": [
    {
     "data": {
      "text/plain": [
       "8735199717264520382402894107268917456649981439562963618250192861045754042428923540507374134603120268786399673194118012694343290009374408470379056190199759"
      ]
     },
     "execution_count": 48,
     "metadata": {},
     "output_type": "execute_result"
    }
   ],
   "source": [
    "getSimilarPrime(N, p, 64)"
   ]
  },
  {
   "cell_type": "code",
   "execution_count": 55,
   "metadata": {},
   "outputs": [],
   "source": [
    "from Crypto.PublicKey import RSA\n",
    "from base64 import b64decode"
   ]
  },
  {
   "cell_type": "code",
   "execution_count": 57,
   "metadata": {},
   "outputs": [
    {
     "data": {
      "text/plain": [
       "RsaKey(n=69898344232861474474474348064640152482133128710674298079970657975965947616721075686585528224466812885141137262918518892026651931285498687478451788443979303338726870083260334886416258399066709452646254746754014077259955162458275354126544381503433111444558703884486596490741605617830870530620991670991445052319, e=65537)"
      ]
     },
     "execution_count": 57,
     "metadata": {},
     "output_type": "execute_result"
    }
   ],
   "source": [
    "key = '''MIGeMA0GCSqGSIb3DQEBAQUAA4GMADCBiAKBgGOJ3iqnPZxYkKcUPrBfFObY5tDk1K8JEgSC/kqZtHESN8b95wxSbV9loEknBZWjpISHTCY/cFrPetGKfQ3uEm0oVC4QsuKYr0ED9jlR/WsZdpdBBFd8e++C8X8VOR4xaXjBGJqUTmtbgKCNUa/MWFYj+AW1hRw1Ve4CrdMelEufAgMBAAE='''\n",
    "key = b64decode(key)\n",
    "\n",
    "pub = RSA.importKey(key)\n",
    "pub"
   ]
  }
 ],
 "metadata": {
  "interpreter": {
   "hash": "f871ce86094cfd9bc401599a69fdf6db5edc218bdd8bae3360dfb1390034ef30"
  },
  "kernelspec": {
   "display_name": "Python 3.10.4 64-bit",
   "language": "python",
   "name": "python3"
  },
  "language_info": {
   "codemirror_mode": {
    "name": "ipython",
    "version": 3
   },
   "file_extension": ".py",
   "mimetype": "text/x-python",
   "name": "python",
   "nbconvert_exporter": "python",
   "pygments_lexer": "ipython3",
   "version": "3.10.4"
  },
  "orig_nbformat": 4
 },
 "nbformat": 4,
 "nbformat_minor": 2
}
